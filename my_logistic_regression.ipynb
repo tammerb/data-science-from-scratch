{
 "cells": [
  {
   "cell_type": "markdown",
   "id": "95195ce3",
   "metadata": {},
   "source": [
    "### First, an example with multiple regression"
   ]
  },
  {
   "cell_type": "code",
   "execution_count": 1,
   "id": "5793c08a",
   "metadata": {},
   "outputs": [
    {
     "data": {
      "image/png": "[encoded data removed]",
      "text/plain": [
       "<Figure size 432x288 with 1 Axes>"
      ]
     },
     "metadata": {
      "needs_background": "light"
     },
     "output_type": "display_data"
    }
   ],
   "source": [
    "from matplotlib import pyplot as plt\n",
    "\n",
    "tuples = [(0.7,48000,1),(1.9,48000,0),(2.5,60000,1),(4.2,63000,0),(6,76000,0),(6.5,69000,0),(7.5,76000,0),(8.1,88000,0),(8.7,83000,1),(10,83000,1),(0.8,43000,0),(1.8,60000,0),(10,79000,1),(6.1,76000,0),(1.4,50000,0),(9.1,92000,0),(5.8,75000,0),(5.2,69000,0),(1,56000,0),(6,67000,0),(4.9,74000,0),(6.4,63000,1),(6.2,82000,0),(3.3,58000,0),(9.3,90000,1),(5.5,57000,1),(9.1,102000,0),(2.4,54000,0),(8.2,65000,1),(5.3,82000,0),(9.8,107000,0),(1.8,64000,0),(0.6,46000,1),(0.8,48000,0),(8.6,84000,1),(0.6,45000,0),(0.5,30000,1),(7.3,89000,0),(2.5,48000,1),(5.6,76000,0),(7.4,77000,0),(2.7,56000,0),(0.7,48000,0),(1.2,42000,0),(0.2,32000,1),(4.7,56000,1),(2.8,44000,1),(7.6,78000,0),(1.1,63000,0),(8,79000,1),(2.7,56000,0),(6,52000,1),(4.6,56000,0),(2.5,51000,0),(5.7,71000,0),(2.9,65000,0),(1.1,33000,1),(3,62000,0),(4,71000,0),(2.4,61000,0),(7.5,75000,0),(9.7,81000,1),(3.2,62000,0),(7.9,88000,0),(4.7,44000,1),(2.5,55000,0),(1.6,41000,0),(6.7,64000,1),(6.9,66000,1),(7.9,78000,1),(8.1,102000,0),(5.3,48000,1),(8.5,66000,1),(0.2,56000,0),(6,69000,0),(7.5,77000,0),(8,86000,0),(4.4,68000,0),(4.9,75000,0),(1.5,60000,0),(2.2,50000,0),(3.4,49000,1),(4.2,70000,0),(7.7,98000,0),(8.2,85000,0),(5.4,88000,0),(0.1,46000,0),(1.5,37000,0),(6.3,86000,0),(3.7,57000,0),(8.4,85000,0),(2,42000,0),(5.8,69000,1),(2.7,64000,0),(3.1,63000,0),(1.9,48000,0),(10,72000,1),(0.2,45000,0),(8.6,95000,0),(1.5,64000,0),(9.8,95000,0),(5.3,65000,0),(7.5,80000,0),(9.9,91000,0),(9.7,50000,1),(2.8,68000,0),(3.6,58000,0),(3.9,74000,0),(4.4,76000,0),(2.5,49000,0),(7.2,81000,0),(5.2,60000,1),(2.4,62000,0),(8.9,94000,0),(2.4,63000,0),(6.8,69000,1),(6.5,77000,0),(7,86000,0),(9.4,94000,0),(7.8,72000,1),(0.2,53000,0),(10,97000,0),(5.5,65000,0),(7.7,71000,1),(8.1,66000,1),(9.8,91000,0),(8,84000,0),(2.7,55000,0),(2.8,62000,0),(9.4,79000,0),(2.5,57000,0),(7.4,70000,1),(2.1,47000,0),(5.3,62000,1),(6.3,79000,0),(6.8,58000,1),(5.7,80000,0),(2.2,61000,0),(4.8,62000,0),(3.7,64000,0),(4.1,85000,0),(2.3,51000,0),(3.5,58000,0),(0.9,43000,0),(0.9,54000,0),(4.5,74000,0),(6.5,55000,1),(4.1,41000,1),(7.1,73000,0),(1.1,66000,0),(9.1,81000,1),(8,69000,1),(7.3,72000,1),(3.3,50000,0),(3.9,58000,0),(2.6,49000,0),(1.6,78000,0),(0.7,56000,0),(2.1,36000,1),(7.5,90000,0),(4.8,59000,1),(8.9,95000,0),(6.2,72000,0),(6.3,63000,0),(9.1,100000,0),(7.3,61000,1),(5.6,74000,0),(0.5,66000,0),(1.1,59000,0),(5.1,61000,0),(6.2,70000,0),(6.6,56000,1),(6.3,76000,0),(6.5,78000,0),(5.1,59000,0),(9.5,74000,1),(4.5,64000,0),(2,54000,0),(1,52000,0),(4,69000,0),(6.5,76000,0),(3,60000,0),(4.5,63000,0),(7.8,70000,0),(3.9,60000,1),(0.8,51000,0),(4.2,78000,0),(1.1,54000,0),(6.2,60000,0),(2.9,59000,0),(2.1,52000,0),(8.2,87000,0),(4.8,73000,0),(2.2,42000,1),(9.1,98000,0),(6.5,84000,0),(6.9,73000,0),(5.1,72000,0),(9.1,69000,1),(9.8,79000,1),]\n",
    "data = [list(row) for row in tuples]\n",
    "\n",
    "paid_list = [(exp, sal) for (exp, sal, paid) in tuples if paid == 1]\n",
    "unpaid_list = [(exp, sal) for (exp, sal, paid) in tuples if paid == 0]\n",
    "plt.scatter([x[0] for x in paid_list], [x[1] for x in paid_list], label=\"paid\")\n",
    "plt.scatter([x[0] for x in unpaid_list], [x[1] for x in unpaid_list], marker='+', label=\"unpaid\")\n",
    "plt.xlabel(\"years experience\")\n",
    "plt.ylabel(\"annualsalary\")\n",
    "plt.legend(loc=\"lower center\")\n",
    "plt.xlim([0, 11])\n",
    "plt.ylim([0, 120000])\n",
    "plt.show()"
   ]
  },
  {
   "cell_type": "code",
   "execution_count": 2,
   "id": "594cdf74",
   "metadata": {},
   "outputs": [
    {
     "name": "stderr",
     "output_type": "stream",
     "text": [
      "least squares fit: 100%|██████████| 1000/1000 [00:01<00:00, 883.09it/s]\n"
     ]
    },
    {
     "name": "stdout",
     "output_type": "stream",
     "text": [
      "[0.2554054269472961, 0.437404621272899, -0.4271055063462302]\n"
     ]
    },
    {
     "data": {
      "image/png": "[encoded data removed]",
      "text/plain": [
       "<Figure size 432x288 with 1 Axes>"
      ]
     },
     "metadata": {
      "needs_background": "light"
     },
     "output_type": "display_data"
    }
   ],
   "source": [
    "xs = [[1.0] + row[:2] for row in data]  # [1, experience, salary]\n",
    "ys = [row[2] for row in data]           # paid_account\n",
    "\n",
    "from scratch.working_with_data import rescale\n",
    "from scratch.multiple_regression import least_squares_fit, predict\n",
    "from scratch.gradient_descent import gradient_step\n",
    "\n",
    "learning_rate = 0.001\n",
    "rescaled_xs = rescale(xs)\n",
    "beta = least_squares_fit(rescaled_xs, ys, learning_rate, 1000, 1)\n",
    "print(beta)\n",
    "predictions = [predict(x_i, beta) for x_i in rescaled_xs]\n",
    "\n",
    "plt.scatter(predictions, ys)\n",
    "plt.xlabel(\"predicted\")\n",
    "plt.ylabel(\"actual\")\n",
    "plt.show()"
   ]
  },
  {
   "cell_type": "markdown",
   "id": "e5157b35",
   "metadata": {},
   "source": [
    "### Apply Logistic Regression instead, and explain the parts as we go\n",
    "\n",
    "First, we'll use a logistic function since we want a prediction between 0 (unpaid) and 1 (paid). Then we use gradient descent to maximize the likelihood.\n",
    "\n",
    "For likelihood, make it log-likelihood (and add all terms instead of multiply), and instead of maximizing it, we minimize the negative (since gradient descent finds the minimum).\n",
    "\n",
    "The `negative_log_likelihood` function below simply sums the negative of `math.log` of the logistic function of `dot(x,beta)` for `y==1` and `1-logistic(dot(x,beta))` for `y==0`. We start with a random `beta`. Logistic of `x` is just `1 / (1+math.exp(-x))`.\n",
    "\n",
    "The `negative_log_gradient` function below returns the vector sum of partial derivatives of the "
   ]
  },
  {
   "cell_type": "code",
   "execution_count": 3,
   "id": "dadea94d",
   "metadata": {},
   "outputs": [
    {
     "name": "stderr",
     "output_type": "stream",
     "text": [
      "loss: 39.963 beta: [-2.0239032476251424, 4.693047853942649, -4.469811321910748]: 100%|██████████| 5000/5000 [00:07<00:00, 647.30it/s]  \n"
     ]
    }
   ],
   "source": [
    "from scratch.machine_learning import train_test_split\n",
    "from scratch.logistic_regression import negative_log_gradient, negative_log_likelihood\n",
    "import random\n",
    "import tqdm\n",
    "\n",
    "random.seed(0)\n",
    "x_train, x_test, y_train, y_test = train_test_split(rescaled_xs, ys, 0.33)\n",
    "\n",
    "learning_rate = 0.01\n",
    "\n",
    "beta = [random.random() for _ in range(3)]\n",
    "\n",
    "with tqdm.trange(5000) as t:\n",
    "    for epoch in t:\n",
    "        gradient = negative_log_gradient(x_train, y_train, beta)\n",
    "        beta = gradient_step(beta, gradient, -learning_rate)\n",
    "        loss = negative_log_likelihood(x_train, y_train, beta)\n",
    "        t.set_description(f\"loss: {loss:.3f} beta: {beta}\")"
   ]
  },
  {
   "cell_type": "code",
   "execution_count": 4,
   "id": "a8a7625f",
   "metadata": {},
   "outputs": [
    {
     "data": {
      "text/plain": [
       "[8.927236932527311, 1.6482026277676038, -0.00028768900920142336]"
      ]
     },
     "execution_count": 4,
     "metadata": {},
     "output_type": "execute_result"
    }
   ],
   "source": [
    "# unscale the data:\n",
    "from scratch.working_with_data import scale\n",
    "means, stdevs = scale(xs)\n",
    "beta_unscaled = [(beta[0]\n",
    "                  - beta[1] * means[1] / stdevs[1]\n",
    "                  - beta[2] * means[2] / stdevs[2]),\n",
    "                  beta[1] / stdevs[1],\n",
    "                  beta[2] / stdevs[2]]\n",
    "beta_unscaled"
   ]
  },
  {
   "cell_type": "markdown",
   "id": "88a5273c",
   "metadata": {},
   "source": [
    "This confirms our finding from the plot above that higher experience generally equates to higher chance of having a paid account, and higher salary decreases the chance of having a paid account.\n",
    "\n",
    "### Goodness of Fit: Now let's test this model with the test data:"
   ]
  },
  {
   "cell_type": "code",
   "execution_count": 5,
   "id": "b151d655",
   "metadata": {},
   "outputs": [
    {
     "name": "stdout",
     "output_type": "stream",
     "text": [
      "0.75 0.8\n"
     ]
    }
   ],
   "source": [
    "from scratch.logistic_regression import logistic\n",
    "from scratch.linear_algebra import dot\n",
    "\n",
    "true_positives = false_positives = true_negatives = false_negatives = 0\n",
    "for x_i, y_i in zip(x_test, y_test):\n",
    "    prediction = logistic(dot(beta, x_i))\n",
    "    \n",
    "    if y_i == 1 and prediction >= 0.5:  # TP: paid and we predict paid\n",
    "        true_positives += 1\n",
    "    elif y_i == 1:                      # FN: paid and we predict unpaid\n",
    "        false_negatives += 1\n",
    "    elif prediction >= 0.5:             # FP: unpaid and we predict paid\n",
    "        false_positives += 1\n",
    "    else:                               # TN: unpaid and we predict unpaid\n",
    "        true_negatives += 1\n",
    "\n",
    "precision = true_positives / (true_positives + false_positives)\n",
    "recall = true_positives / (true_positives + false_negatives)\n",
    "    \n",
    "    \n",
    "    \n",
    "print(precision, recall)"
   ]
  },
  {
   "cell_type": "markdown",
   "id": "154c90b4",
   "metadata": {},
   "source": [
    "### Support Vector Machines (not really)\n",
    "\n",
    "The idea behind support vector machines is to find a hyperplane (decision boundary) between data sets. We've found one as a byproduct of doing logistic regression. <b>It corresponds to the points where dot(beta, x_i) = 0.<b>"
   ]
  },
  {
   "cell_type": "code",
   "execution_count": 6,
   "id": "dedeceb3",
   "metadata": {},
   "outputs": [
    {
     "data": {
      "image/png": "[encoded data removed]",
      "text/plain": [
       "<Figure size 432x288 with 1 Axes>"
      ]
     },
     "metadata": {
      "needs_background": "light"
     },
     "output_type": "display_data"
    }
   ],
   "source": [
    "hyperplane = []\n",
    "\n",
    "for years in range(12):\n",
    "    for salary in range(30000, 100000, 1000):\n",
    "        x_i = [1, years, salary]\n",
    "        if -0.1 < dot(beta_unscaled, x_i) < 0.1:\n",
    "            hyperplane.append([years,salary])\n",
    "\n",
    "plt.plot([x[0] for x in hyperplane], [x[1] for x in hyperplane], 'k') \n",
    "plt.scatter([x[0] for x in paid_list], [x[1] for x in paid_list], label=\"paid\")\n",
    "plt.scatter([x[0] for x in unpaid_list], [x[1] for x in unpaid_list], marker='+', label=\"unpaid\")\n",
    "plt.xlabel(\"years experience\")\n",
    "plt.ylabel(\"annualsalary\")\n",
    "plt.legend(loc=\"lower center\")\n",
    "plt.xlim([0, 11])\n",
    "plt.ylim([0, 120000])\n",
    "plt.show()"
   ]
  },
  {
   "cell_type": "code",
   "execution_count": null,
   "id": "a5bfd0ac",
   "metadata": {},
   "outputs": [],
   "source": []
  },
  {
   "cell_type": "code",
   "execution_count": null,
   "id": "fc07736e",
   "metadata": {},
   "outputs": [],
   "source": []
  }
 ],
 "metadata": {
  "kernelspec": {
   "display_name": "Python 3",
   "language": "python",
   "name": "python3"
  },
  "language_info": {
   "codemirror_mode": {
    "name": "ipython",
    "version": 3
   },
   "file_extension": ".py",
   "mimetype": "text/x-python",
   "name": "python",
   "nbconvert_exporter": "python",
   "pygments_lexer": "ipython3",
   "version": "3.8.8"
  }
 },
 "nbformat": 4,
 "nbformat_minor": 5
}
