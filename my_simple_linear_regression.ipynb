{
 "cells": [
  {
   "cell_type": "markdown",
   "id": "7316b34e",
   "metadata": {},
   "source": [
    "### Using Least-Squares Fit"
   ]
  },
  {
   "cell_type": "code",
   "execution_count": 13,
   "id": "4a0154dc",
   "metadata": {},
   "outputs": [],
   "source": [
    "from scratch.simple_linear_regression import least_squares_fit\n",
    "from scratch.statistics import num_friends_good, daily_minutes_good # imports the data\n",
    "\n",
    "# These lines are a quick test for the least_squares_fit function\n",
    "x = [i for i in range(-100, 110, 10)]\n",
    "y = [3 * i - 5 for i in x]\n",
    "assert least_squares_fit(x,y) == (-5, 3)"
   ]
  },
  {
   "cell_type": "code",
   "execution_count": 14,
   "id": "778584d9",
   "metadata": {},
   "outputs": [],
   "source": [
    "alpha, beta = least_squares_fit(num_friends_good, daily_minutes_good)\n",
    "assert 22.9 < alpha < 23.0\n",
    "assert 0.9 < beta < 0.905"
   ]
  },
  {
   "cell_type": "markdown",
   "id": "8d1f8bfb",
   "metadata": {},
   "source": [
    "A common measure is <i>coefficient of determination</i> or R-squared which measures the fraction of the total variation in the dependent variable that is captured by the model:"
   ]
  },
  {
   "cell_type": "code",
   "execution_count": 15,
   "id": "f0c3c1b1",
   "metadata": {},
   "outputs": [
    {
     "data": {
      "text/plain": [
       "0.3291078377836305"
      ]
     },
     "execution_count": 15,
     "metadata": {},
     "output_type": "execute_result"
    }
   ],
   "source": [
    "from scratch.simple_linear_regression import r_squared\n",
    "\n",
    "rsq = r_squared(alpha, beta, num_friends_good, daily_minutes_good)\n",
    "rsq"
   ]
  },
  {
   "cell_type": "markdown",
   "id": "e518704a",
   "metadata": {},
   "source": [
    "Minimizing the sum of squared errors is equivalent to maximizing the likelihood of the observed data. This assumes that regression errors are normally distributed with mean 0 and known standard deviation (gives us a nice likelihood function)."
   ]
  }
 ],
 "metadata": {
  "kernelspec": {
   "display_name": "Python 3",
   "language": "python",
   "name": "python3"
  },
  "language_info": {
   "codemirror_mode": {
    "name": "ipython",
    "version": 3
   },
   "file_extension": ".py",
   "mimetype": "text/x-python",
   "name": "python",
   "nbconvert_exporter": "python",
   "pygments_lexer": "ipython3",
   "version": "3.8.8"
  }
 },
 "nbformat": 4,
 "nbformat_minor": 5
}
