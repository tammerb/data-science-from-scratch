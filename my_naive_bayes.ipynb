{
 "cells": [
  {
   "cell_type": "markdown",
   "id": "ded2c839",
   "metadata": {},
   "source": [
    "### Get Data"
   ]
  },
  {
   "cell_type": "code",
   "execution_count": 30,
   "id": "3bb6dd72",
   "metadata": {},
   "outputs": [],
   "source": [
    "from io import BytesIO # So we can treat bytes as a file\n",
    "import requests\n",
    "import tarfile\n",
    "import os\n",
    "\n",
    "BASE_URL = \"https://spamassassin.apache.org/old/publiccorpus\"\n",
    "FILES = [\"20021010_easy_ham.tar.bz2\",\n",
    "         \"20021010_hard_ham.tar.bz2\",\n",
    "         \"20021010_spam.tar.bz2\"]\n",
    "\n",
    "# If the data already exists, delete then get it\n",
    "from shutil import rmtree\n",
    "try:\n",
    "    rmtree(OUTPUT_DIR)\n",
    "except FileNotFoundError:\n",
    "    pass\n",
    "\n",
    "OUTPUT_DIR = 'spam_data'\n",
    "\n",
    "for filename in FILES:\n",
    "    # use requests to get the file contents at each URL\n",
    "    content = requests.get(f\"{BASE_URL}/{filename}\").content\n",
    "    fin = BytesIO(content)\n",
    "    \n",
    "    # extract tarfiles to the specified output dir\n",
    "    with tarfile.open(fileobj=fin, mode='r:bz2') as tf:\n",
    "        tf.extractall(OUTPUT_DIR)"
   ]
  },
  {
   "cell_type": "code",
   "execution_count": 36,
   "id": "6cfaa36b",
   "metadata": {},
   "outputs": [],
   "source": [
    "import glob, re\n",
    "from typing import List\n",
    "from scratch.naive_bayes import Message, NaiveBayesClassifier\n",
    "\n",
    "path = 'spam_data/*/*'\n",
    "\n",
    "data: List[Message] = []"
   ]
  },
  {
   "cell_type": "code",
   "execution_count": 37,
   "id": "91c999fa",
   "metadata": {},
   "outputs": [],
   "source": [
    "for filename in glob.glob(path): # glob.glob returns every filename that matches the wildcarded path\n",
    "    is_spam = \"ham\" not in filename\n",
    "    \n",
    "    with open(filename, errors='ignore') as email_file:\n",
    "        for line in email_file:\n",
    "            if line.startswith(\"Subject: \"):\n",
    "                subject = line.lstrip(\"Subject: \")\n",
    "                data.append(Message(subject, is_spam))\n",
    "                break # done with this file"
   ]
  },
  {
   "cell_type": "markdown",
   "id": "2ddae253",
   "metadata": {},
   "source": [
    "### Split Data into Training and Test Sets, Train the Model"
   ]
  },
  {
   "cell_type": "code",
   "execution_count": 38,
   "id": "7c6c83f0",
   "metadata": {},
   "outputs": [],
   "source": [
    "import random \n",
    "from scratch.machine_learning import split_data\n",
    "\n",
    "random.seed(0)\n",
    "train_messages, test_messages = split_data(data, 0.75)\n",
    "\n",
    "model = NaiveBayesClassifier()\n",
    "model.train(train_messages)"
   ]
  },
  {
   "cell_type": "markdown",
   "id": "4f551bee",
   "metadata": {},
   "source": [
    "### Generate some predictions"
   ]
  },
  {
   "cell_type": "code",
   "execution_count": 39,
   "id": "09434a41",
   "metadata": {},
   "outputs": [
    {
     "name": "stdout",
     "output_type": "stream",
     "text": [
      "Counter({(False, False): 667, (True, True): 89, (True, False): 50, (False, True): 19})\n"
     ]
    }
   ],
   "source": [
    "from collections import Counter\n",
    "\n",
    "predictions = [(message, model.predict(message.text))\n",
    "              for message in test_messages]\n",
    "\n",
    "# Assume that spam prob > 0.5 corresponds to spam prediction\n",
    "confusion_matrix = Counter((message.is_spam, spam_probability > 0.5)\n",
    "                          for message, spam_probability in predictions)\n",
    "print(confusion_matrix)"
   ]
  },
  {
   "cell_type": "code",
   "execution_count": null,
   "id": "6b86fe7d",
   "metadata": {},
   "outputs": [],
   "source": []
  }
 ],
 "metadata": {
  "kernelspec": {
   "display_name": "Python 3",
   "language": "python",
   "name": "python3"
  },
  "language_info": {
   "codemirror_mode": {
    "name": "ipython",
    "version": 3
   },
   "file_extension": ".py",
   "mimetype": "text/x-python",
   "name": "python",
   "nbconvert_exporter": "python",
   "pygments_lexer": "ipython3",
   "version": "3.8.8"
  }
 },
 "nbformat": 4,
 "nbformat_minor": 5
}
