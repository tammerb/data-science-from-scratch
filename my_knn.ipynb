{
 "cells": [
  {
   "cell_type": "markdown",
   "id": "2a828d99",
   "metadata": {},
   "source": [
    "# Example: The Iris Dataset"
   ]
  },
  {
   "cell_type": "code",
   "execution_count": 13,
   "id": "5129ee1d",
   "metadata": {},
   "outputs": [],
   "source": [
    "# Get the data and write to a file\n",
    "\n",
    "import requests\n",
    "\n",
    "iris_data = requests.get(\n",
    "    \"https://archive.ics.uci.edu/ml/machine-learning-databases/iris/iris.data\"\n",
    ")\n",
    "\n",
    "with open('iris.dat', 'w') as f:\n",
    "    f.write(iris_data.text)\n",
    "    \n",
    "    # fields are sepal_length, sepal_width, petal_length, petal_width, class"
   ]
  },
  {
   "cell_type": "code",
   "execution_count": 31,
   "id": "74772ccb",
   "metadata": {},
   "outputs": [],
   "source": [
    "# Open the file and read in the rows\n",
    "\n",
    "import csv\n",
    "from typing import List\n",
    "from scratch.k_nearest_neighbors import LabeledPoint\n",
    "\n",
    "def parse_iris_row(row: List[str]) -> LabeledPoint:\n",
    "    measurements = [float(value) for value in row[:-1]]\n",
    "    # class is e.g. \"Iris-virginica\"; we just want \"virginica\"\n",
    "    label = row[-1].split(\"-\")[-1]\n",
    "    return LabeledPoint(measurements, label)\n",
    "\n",
    "with open('iris.dat') as f:\n",
    "    reader = csv.reader(f)\n",
    "    rowlist = [row for row in reader]\n",
    "    iris_data = [parse_iris_row(row) for row in rowlist[:-1]]\n"
   ]
  },
  {
   "cell_type": "markdown",
   "id": "0166f4c5",
   "metadata": {},
   "source": [
    "### Split data into training and test set"
   ]
  },
  {
   "cell_type": "code",
   "execution_count": 41,
   "id": "e3136ae0",
   "metadata": {},
   "outputs": [],
   "source": [
    "import random\n",
    "from scratch.machine_learning import split_data\n",
    "\n",
    "random.seed(12)\n",
    "iris_train, iris_test = split_data(iris_data, 0.70)\n",
    "assert len(iris_train) == 0.7 * 150\n",
    "assert len(iris_test) == 0.3 * 150"
   ]
  },
  {
   "cell_type": "code",
   "execution_count": 44,
   "id": "e7ebd053",
   "metadata": {},
   "outputs": [
    {
     "name": "stdout",
     "output_type": "stream",
     "text": [
      "0.9777777777777777 defaultdict(<class 'int'>, {('setosa', 'setosa'): 13, ('versicolor', 'versicolor'): 15, ('virginica', 'virginica'): 16, ('virginica', 'versicolor'): 1})\n"
     ]
    }
   ],
   "source": [
    "from typing import Tuple, Dict\n",
    "from collections import defaultdict\n",
    "\n",
    "# track how many times we see (predicted, actual)\n",
    "confusion_matrix: Dict[Tuple[str, str], int] = defaultdict(int)\n",
    "num_correct = 0\n",
    "\n",
    "from scratch.k_nearest_neighbors import knn_classify\n",
    "\n",
    "for iris in iris_test:\n",
    "    predicted = knn_classify(5, iris_train, iris.point)\n",
    "    actual = iris.label\n",
    "    \n",
    "    if predicted == actual:\n",
    "        num_correct += 1\n",
    "        \n",
    "    confusion_matrix[(predicted, actual)] += 1\n",
    "    \n",
    "pct_correct = num_correct / len(iris_test)\n",
    "print(pct_correct, confusion_matrix)"
   ]
  },
  {
   "cell_type": "code",
   "execution_count": null,
   "id": "230ae400",
   "metadata": {},
   "outputs": [],
   "source": []
  }
 ],
 "metadata": {
  "kernelspec": {
   "display_name": "Python 3",
   "language": "python",
   "name": "python3"
  },
  "language_info": {
   "codemirror_mode": {
    "name": "ipython",
    "version": 3
   },
   "file_extension": ".py",
   "mimetype": "text/x-python",
   "name": "python",
   "nbconvert_exporter": "python",
   "pygments_lexer": "ipython3",
   "version": "3.8.8"
  }
 },
 "nbformat": 4,
 "nbformat_minor": 5
}
